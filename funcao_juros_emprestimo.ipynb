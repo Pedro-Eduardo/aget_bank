{
 "cells": [
  {
   "cell_type": "markdown",
   "id": "4c37a65a",
   "metadata": {},
   "source": [
    "# Calculadora de Emprestimo Atual"
   ]
  },
  {
   "cell_type": "code",
   "execution_count": 89,
   "id": "44f3bf0f",
   "metadata": {},
   "outputs": [
    {
     "name": "stdout",
     "output_type": "stream",
     "text": [
      "Valor Sem Juros: 83.33 em 12x \n",
      "Juros cobrado ao Emprestimo:  23.5% \n",
      "Taxa ao mês: 1.96\n",
      "Taxa Administrativa do emprestimo: R$ 1200\n",
      "Taxa Total do emprestimo: R$ 1435.0\n",
      "Valor total do emprestimo com Juros: R$ 2435.0\n",
      "Parcelas do emprestimo: R$ 202.92\n"
     ]
    }
   ],
   "source": [
    "# Váriaveis \n",
    "\n",
    "tx_juros = 11.75\n",
    "tx_fixa = 100\n",
    "valor_emprestimo = 1000\n",
    "qtd_parcela = 12\n",
    "\n",
    "#calculos\n",
    "\n",
    "valor_parcela = (valor_emprestimo / qtd_parcela) #sem juros\n",
    "valor_parcela_jrs = (valor_emprestimo / qtd_parcela) #valor com juros\n",
    "tx_total_juros =((tx_juros * 2)/12) * qtd_parcela #juros do emprestimo no ano sempre vai ser a taxa total.\n",
    "#tx_total_juros = tx_juros * 2  #juros do emprestimo no ano sempre vai ser a taxa total.\n",
    "valor_tx_adm = (qtd_parcela*tx_fixa )\n",
    "valor_tx = ((valor_emprestimo*tx_total_juros)/100)+(qtd_parcela*tx_fixa )\n",
    "\n",
    "\n",
    "#prints\n",
    "\n",
    "print('Valor Sem Juros: {:0.2f} em {}x '.format(valor_parcela,qtd_parcela))\n",
    "print('Juros cobrado ao Emprestimo:  {}% '.format(tx_total_juros))\n",
    "print('Taxa ao mês: {:0.2f}'.format(tx_total_juros/qtd_parcela))\n",
    "print('Taxa Administrativa do emprestimo: R$ {}'.format(valor_tx_adm))\n",
    "print('Taxa Total do emprestimo: R$ {}'.format(valor_tx))\n",
    "print('Valor total do emprestimo com Juros: R$ {}'.format(valor_emprestimo+valor_tx))\n",
    "print('Parcelas do emprestimo: R$ {:0.2f}'.format((valor_emprestimo+valor_tx)/qtd_parcela))\n",
    "\n"
   ]
  },
  {
   "cell_type": "code",
   "execution_count": null,
   "id": "b7a872b6",
   "metadata": {},
   "outputs": [],
   "source": []
  }
 ],
 "metadata": {
  "kernelspec": {
   "display_name": "Python 3",
   "language": "python",
   "name": "python3"
  },
  "language_info": {
   "codemirror_mode": {
    "name": "ipython",
    "version": 3
   },
   "file_extension": ".py",
   "mimetype": "text/x-python",
   "name": "python",
   "nbconvert_exporter": "python",
   "pygments_lexer": "ipython3",
   "version": "3.8.8"
  }
 },
 "nbformat": 4,
 "nbformat_minor": 5
}
